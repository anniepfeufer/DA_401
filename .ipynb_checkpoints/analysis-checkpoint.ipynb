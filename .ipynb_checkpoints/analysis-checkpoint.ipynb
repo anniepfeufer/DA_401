{
 "cells": [
  {
   "cell_type": "code",
   "execution_count": 1,
   "id": "d414db36-3ae2-4219-8111-bfd529166b27",
   "metadata": {},
   "outputs": [],
   "source": [
    "import os\n",
    "import os.path\n",
    "import pandas as pd\n",
    "import statsmodels.api as sm\n",
    "import statsmodels.formula.api as smf\n",
    "import matplotlib.pyplot as pyplot\n"
   ]
  },
  {
   "cell_type": "code",
   "execution_count": 2,
   "id": "66609774-e249-46c5-9487-4b14f92d1595",
   "metadata": {},
   "outputs": [],
   "source": [
    "total=pd.read_csv(\"data/total.csv\")\n",
    "grouped=total.groupby([\"Tillage_st_x\", \"Year\"]).agg({\"Yield_bu_ac\":\"mean\", \"input_cost\":\"mean\", \"profit\":\"mean\", \"roi\":\"mean\", \"income_per_ac\":\"mean\"})"
   ]
  },
  {
   "cell_type": "code",
   "execution_count": 3,
   "id": "8261bf0b-f3db-4e69-b116-c73fdf05139f",
   "metadata": {},
   "outputs": [
    {
     "data": {
      "text/html": [
       "<div>\n",
       "<style scoped>\n",
       "    .dataframe tbody tr th:only-of-type {\n",
       "        vertical-align: middle;\n",
       "    }\n",
       "\n",
       "    .dataframe tbody tr th {\n",
       "        vertical-align: top;\n",
       "    }\n",
       "\n",
       "    .dataframe thead th {\n",
       "        text-align: right;\n",
       "    }\n",
       "</style>\n",
       "<table border=\"1\" class=\"dataframe\">\n",
       "  <thead>\n",
       "    <tr style=\"text-align: right;\">\n",
       "      <th></th>\n",
       "      <th></th>\n",
       "      <th>Yield_bu_ac</th>\n",
       "      <th>input_cost</th>\n",
       "      <th>profit</th>\n",
       "      <th>roi</th>\n",
       "      <th>income_per_ac</th>\n",
       "    </tr>\n",
       "    <tr>\n",
       "      <th>Tillage_st_x</th>\n",
       "      <th>Year</th>\n",
       "      <th></th>\n",
       "      <th></th>\n",
       "      <th></th>\n",
       "      <th></th>\n",
       "      <th></th>\n",
       "    </tr>\n",
       "  </thead>\n",
       "  <tbody>\n",
       "    <tr>\n",
       "      <th rowspan=\"5\" valign=\"top\">Alt</th>\n",
       "      <th>1970</th>\n",
       "      <td>34.800000</td>\n",
       "      <td>2.722098</td>\n",
       "      <td>43.561902</td>\n",
       "      <td>1600.306443</td>\n",
       "      <td>46.284000</td>\n",
       "    </tr>\n",
       "    <tr>\n",
       "      <th>1971</th>\n",
       "      <td>37.025000</td>\n",
       "      <td>2.702201</td>\n",
       "      <td>37.284799</td>\n",
       "      <td>1379.793909</td>\n",
       "      <td>39.987000</td>\n",
       "    </tr>\n",
       "    <tr>\n",
       "      <th>1972</th>\n",
       "      <td>47.000000</td>\n",
       "      <td>32.002656</td>\n",
       "      <td>41.787344</td>\n",
       "      <td>130.574616</td>\n",
       "      <td>73.790000</td>\n",
       "    </tr>\n",
       "    <tr>\n",
       "      <th>1973</th>\n",
       "      <td>10.325000</td>\n",
       "      <td>2.564469</td>\n",
       "      <td>23.764281</td>\n",
       "      <td>926.674664</td>\n",
       "      <td>26.328750</td>\n",
       "    </tr>\n",
       "    <tr>\n",
       "      <th>1974</th>\n",
       "      <td>35.900000</td>\n",
       "      <td>2.656079</td>\n",
       "      <td>105.761921</td>\n",
       "      <td>3981.881203</td>\n",
       "      <td>108.418000</td>\n",
       "    </tr>\n",
       "    <tr>\n",
       "      <th>...</th>\n",
       "      <th>...</th>\n",
       "      <td>...</td>\n",
       "      <td>...</td>\n",
       "      <td>...</td>\n",
       "      <td>...</td>\n",
       "      <td>...</td>\n",
       "    </tr>\n",
       "    <tr>\n",
       "      <th rowspan=\"5\" valign=\"top\">No_till</th>\n",
       "      <th>2010</th>\n",
       "      <td>61.908210</td>\n",
       "      <td>4.180372</td>\n",
       "      <td>316.504158</td>\n",
       "      <td>7571.196743</td>\n",
       "      <td>320.684529</td>\n",
       "    </tr>\n",
       "    <tr>\n",
       "      <th>2011</th>\n",
       "      <td>46.747500</td>\n",
       "      <td>4.120550</td>\n",
       "      <td>286.648900</td>\n",
       "      <td>6956.568121</td>\n",
       "      <td>290.769450</td>\n",
       "    </tr>\n",
       "    <tr>\n",
       "      <th>2012</th>\n",
       "      <td>61.458863</td>\n",
       "      <td>4.159390</td>\n",
       "      <td>419.292173</td>\n",
       "      <td>10080.618007</td>\n",
       "      <td>423.451563</td>\n",
       "    </tr>\n",
       "    <tr>\n",
       "      <th>2013</th>\n",
       "      <td>26.580498</td>\n",
       "      <td>4.151924</td>\n",
       "      <td>114.397100</td>\n",
       "      <td>2755.279508</td>\n",
       "      <td>118.549023</td>\n",
       "    </tr>\n",
       "    <tr>\n",
       "      <th>2014</th>\n",
       "      <td>102.358005</td>\n",
       "      <td>4.072859</td>\n",
       "      <td>374.651759</td>\n",
       "      <td>9198.741106</td>\n",
       "      <td>378.724619</td>\n",
       "    </tr>\n",
       "  </tbody>\n",
       "</table>\n",
       "<p>180 rows × 5 columns</p>\n",
       "</div>"
      ],
      "text/plain": [
       "                   Yield_bu_ac  input_cost      profit           roi  \\\n",
       "Tillage_st_x Year                                                      \n",
       "Alt          1970    34.800000    2.722098   43.561902   1600.306443   \n",
       "             1971    37.025000    2.702201   37.284799   1379.793909   \n",
       "             1972    47.000000   32.002656   41.787344    130.574616   \n",
       "             1973    10.325000    2.564469   23.764281    926.674664   \n",
       "             1974    35.900000    2.656079  105.761921   3981.881203   \n",
       "...                        ...         ...         ...           ...   \n",
       "No_till      2010    61.908210    4.180372  316.504158   7571.196743   \n",
       "             2011    46.747500    4.120550  286.648900   6956.568121   \n",
       "             2012    61.458863    4.159390  419.292173  10080.618007   \n",
       "             2013    26.580498    4.151924  114.397100   2755.279508   \n",
       "             2014   102.358005    4.072859  374.651759   9198.741106   \n",
       "\n",
       "                   income_per_ac  \n",
       "Tillage_st_x Year                 \n",
       "Alt          1970      46.284000  \n",
       "             1971      39.987000  \n",
       "             1972      73.790000  \n",
       "             1973      26.328750  \n",
       "             1974     108.418000  \n",
       "...                          ...  \n",
       "No_till      2010     320.684529  \n",
       "             2011     290.769450  \n",
       "             2012     423.451563  \n",
       "             2013     118.549023  \n",
       "             2014     378.724619  \n",
       "\n",
       "[180 rows x 5 columns]"
      ]
     },
     "execution_count": 3,
     "metadata": {},
     "output_type": "execute_result"
    }
   ],
   "source": [
    "grouped"
   ]
  },
  {
   "cell_type": "code",
   "execution_count": 4,
   "id": "2fc2f02d-c2cf-4fb6-8319-bf4e8b8f65b4",
   "metadata": {},
   "outputs": [],
   "source": [
    "import numpy as np"
   ]
  },
  {
   "cell_type": "code",
   "execution_count": 5,
   "id": "7a3af2bf-9480-4bc9-b7ce-df9e3ad23381",
   "metadata": {},
   "outputs": [
    {
     "data": {
      "image/png": "[encoded data removed]",
      "text/plain": [
       "<Figure size 640x480 with 1 Axes>"
      ]
     },
     "metadata": {},
     "output_type": "display_data"
    },
    {
     "name": "stdout",
     "output_type": "stream",
     "text": [
      "                            OLS Regression Results                            \n",
      "==============================================================================\n",
      "Dep. Variable:                 profit   R-squared:                       0.003\n",
      "Model:                            OLS   Adj. R-squared:                 -0.002\n",
      "Method:                 Least Squares   F-statistic:                    0.6402\n",
      "Date:                Wed, 11 Dec 2024   Prob (F-statistic):              0.589\n",
      "Time:                        16:47:32   Log-Likelihood:                -4230.4\n",
      "No. Observations:                 686   AIC:                             8469.\n",
      "Df Residuals:                     682   BIC:                             8487.\n",
      "Df Model:                           3                                         \n",
      "Covariance Type:            nonrobust                                         \n",
      "==============================================================================================\n",
      "                                 coef    std err          t      P>|t|      [0.025      0.975]\n",
      "----------------------------------------------------------------------------------------------\n",
      "Intercept                    141.5189      8.820     16.045      0.000     124.202     158.836\n",
      "C(Tillage_st_x)[T.Chisel]     -4.4703     12.473     -0.358      0.720     -28.961      20.020\n",
      "C(Tillage_st_x)[T.Conv]      -16.6960     12.473     -1.339      0.181     -41.187       7.795\n",
      "C(Tillage_st_x)[T.No_till]    -7.1325     12.510     -0.570      0.569     -31.695      17.430\n",
      "==============================================================================\n",
      "Omnibus:                      257.943   Durbin-Watson:                   0.349\n",
      "Prob(Omnibus):                  0.000   Jarque-Bera (JB):              803.701\n",
      "Skew:                           1.855   Prob(JB):                    3.01e-175\n",
      "Kurtosis:                       6.788   Cond. No.                         4.79\n",
      "==============================================================================\n",
      "\n",
      "Notes:\n",
      "[1] Standard Errors assume that the covariance matrix of the errors is correctly specified.\n"
     ]
    }
   ],
   "source": [
    "\n",
    "model=smf.ols(formula=\"profit ~ C(Tillage_st_x)\", data=total).fit()\n",
    "\n",
    "residuals = model.resid\n",
    "predicted_values = model.fittedvalues\n",
    "pyplot.scatter(predicted_values, residuals, alpha=0.6, color='b')\n",
    "pyplot.axhline(y=0, color='r', linestyle='--')  # Horizontal line at 0 (ideal for residuals)\n",
    "pyplot.title('Residual Plot')\n",
    "pyplot.ylabel('Residuals')\n",
    "pyplot.xlabel('Predicted Values')\n",
    "pyplot.show()\n",
    "print(model.summary())"
   ]
  },
  {
   "cell_type": "code",
   "execution_count": 6,
   "id": "c5fce3ea-c951-4dca-8785-3be8cf97fd4b",
   "metadata": {},
   "outputs": [
    {
     "data": {
      "image/png": "[encoded data removed]",
      "text/plain": [
       "<Figure size 640x480 with 1 Axes>"
      ]
     },
     "metadata": {},
     "output_type": "display_data"
    },
    {
     "name": "stdout",
     "output_type": "stream",
     "text": [
      "                            OLS Regression Results                            \n",
      "==============================================================================\n",
      "Dep. Variable:            Yield_bu_ac   R-squared:                       0.027\n",
      "Model:                            OLS   Adj. R-squared:                  0.022\n",
      "Method:                 Least Squares   F-statistic:                     6.252\n",
      "Date:                Wed, 11 Dec 2024   Prob (F-statistic):           0.000344\n",
      "Time:                        16:47:32   Log-Likelihood:                -3310.9\n",
      "No. Observations:                 686   AIC:                             6630.\n",
      "Df Residuals:                     682   BIC:                             6648.\n",
      "Df Model:                           3                                         \n",
      "Covariance Type:            nonrobust                                         \n",
      "==============================================================================================\n",
      "                                 coef    std err          t      P>|t|      [0.025      0.975]\n",
      "----------------------------------------------------------------------------------------------\n",
      "Intercept                     57.6010      2.309     24.951      0.000      53.068      62.134\n",
      "C(Tillage_st_x)[T.Chisel]      6.5911      3.265      2.019      0.044       0.181      13.001\n",
      "C(Tillage_st_x)[T.Conv]        2.4517      3.265      0.751      0.453      -3.959       8.862\n",
      "C(Tillage_st_x)[T.No_till]    -7.2131      3.274     -2.203      0.028     -13.642      -0.784\n",
      "==============================================================================\n",
      "Omnibus:                       87.740   Durbin-Watson:                   0.479\n",
      "Prob(Omnibus):                  0.000   Jarque-Bera (JB):              119.849\n",
      "Skew:                           0.958   Prob(JB):                     9.44e-27\n",
      "Kurtosis:                       3.720   Cond. No.                         4.79\n",
      "==============================================================================\n",
      "\n",
      "Notes:\n",
      "[1] Standard Errors assume that the covariance matrix of the errors is correctly specified.\n"
     ]
    }
   ],
   "source": [
    "model = smf.ols(\"Yield_bu_ac ~ C(Tillage_st_x)\", total).fit()\n",
    "\n",
    "residuals = model.resid\n",
    "predicted_values = model.fittedvalues\n",
    "pyplot.scatter(predicted_values, residuals, alpha=0.6, color='b')\n",
    "pyplot.axhline(y=0, color='r', linestyle='--')  # Horizontal line at 0 (ideal for residuals)\n",
    "pyplot.title('Residual Plot')\n",
    "pyplot.ylabel('Residuals')\n",
    "pyplot.xlabel('Predicted Values')\n",
    "pyplot.show()\n",
    "print(model.summary())"
   ]
  },
  {
   "cell_type": "code",
   "execution_count": 7,
   "id": "133dab07-7620-4142-a6fe-b7210448ec0f",
   "metadata": {},
   "outputs": [
    {
     "data": {
      "image/png": "[encoded data removed]",
      "text/plain": [
       "<Figure size 640x480 with 1 Axes>"
      ]
     },
     "metadata": {},
     "output_type": "display_data"
    },
    {
     "name": "stdout",
     "output_type": "stream",
     "text": [
      "                            OLS Regression Results                            \n",
      "==============================================================================\n",
      "Dep. Variable:             input_cost   R-squared:                       0.720\n",
      "Model:                            OLS   Adj. R-squared:                  0.719\n",
      "Method:                 Least Squares   F-statistic:                     614.1\n",
      "Date:                Wed, 11 Dec 2024   Prob (F-statistic):          1.87e-197\n",
      "Time:                        16:47:33   Log-Likelihood:                -2694.1\n",
      "No. Observations:                 720   AIC:                             5396.\n",
      "Df Residuals:                     716   BIC:                             5415.\n",
      "Df Model:                           3                                         \n",
      "Covariance Type:            nonrobust                                         \n",
      "==============================================================================================\n",
      "                                 coef    std err          t      P>|t|      [0.025      0.975]\n",
      "----------------------------------------------------------------------------------------------\n",
      "Intercept                     16.5205      0.763     21.658      0.000      15.023      18.018\n",
      "C(Tillage_st_x)[T.Chisel]     24.1387      1.079     22.376      0.000      22.021      26.257\n",
      "C(Tillage_st_x)[T.Conv]       25.6701      1.079     23.796      0.000      23.552      27.788\n",
      "C(Tillage_st_x)[T.No_till]   -13.0012      1.079    -12.052      0.000     -15.119     -10.883\n",
      "==============================================================================\n",
      "Omnibus:                      152.024   Durbin-Watson:                   1.811\n",
      "Prob(Omnibus):                  0.000   Jarque-Bera (JB):              298.124\n",
      "Skew:                           1.201   Prob(JB):                     1.83e-65\n",
      "Kurtosis:                       5.042   Cond. No.                         4.79\n",
      "==============================================================================\n",
      "\n",
      "Notes:\n",
      "[1] Standard Errors assume that the covariance matrix of the errors is correctly specified.\n"
     ]
    }
   ],
   "source": [
    "model = smf.ols(\"input_cost ~ C(Tillage_st_x)\", total).fit()\n",
    "\n",
    "residuals = model.resid\n",
    "predicted_values = model.fittedvalues\n",
    "pyplot.scatter(predicted_values, residuals, alpha=0.6, color='b')\n",
    "pyplot.axhline(y=0, color='r', linestyle='--')  # Horizontal line at 0 (ideal for residuals)\n",
    "pyplot.title('Residual Plot')\n",
    "pyplot.ylabel('Residuals')\n",
    "pyplot.xlabel('Predicted Values')\n",
    "pyplot.show()\n",
    "print(model.summary())"
   ]
  },
  {
   "cell_type": "code",
   "execution_count": 8,
   "id": "2f4b766c-ac8a-45dd-9342-18a49fac77fd",
   "metadata": {},
   "outputs": [],
   "source": [
    "import scipy.stats as stats\n",
    "\n",
    "no_till = total[total['Tillage_st_x'] == \"No_till\"].copy()\n",
    "no_till.dropna(inplace=True)\n",
    "alt = total[total['Tillage_st_x'] == \"Alt\"].copy()\n",
    "alt.dropna(inplace=True)\n",
    "chisel = total[total['Tillage_st_x'] == \"Chisel\"].copy()\n",
    "chisel.dropna(inplace=True)\n",
    "conv = total[total['Tillage_st_x'] == \"Conv\"].copy()\n",
    "conv.dropna(inplace=True)"
   ]
  },
  {
   "cell_type": "code",
   "execution_count": null,
   "id": "4e4be3a5-b1bf-4393-be8f-797e40d6fb3c",
   "metadata": {},
   "outputs": [],
   "source": []
  },
  {
   "cell_type": "code",
   "execution_count": 9,
   "id": "ec4e1597-2ca1-4537-8f1e-bea745c05ced",
   "metadata": {},
   "outputs": [],
   "source": [
    "def conv_v_none(variable):\n",
    "    '''\n",
    "    runs a t-test on the input variable between no till and conventional till\n",
    "    '''\n",
    "    t_stat, p_value = stats.ttest_ind(no_till[variable], conv[variable], nan_policy=\"omit\")\n",
    "    nt=no_till[variable].mean()\n",
    "    ct=conv[variable].mean()\n",
    "    \n",
    "    print(\"mean no till for \", variable, \": \", nt)\n",
    "    print(\"mean conv till for \", variable, \": \", ct)\n",
    "    print(\"T-statistic for \", variable, \": \", t_stat)\n",
    "    print(\"P-value for \", variable, \": \", p_value)\n",
    "    return\n"
   ]
  },
  {
   "cell_type": "code",
   "execution_count": 10,
   "id": "342cd944-f01b-4bbe-9755-d7292f612260",
   "metadata": {},
   "outputs": [
    {
     "name": "stdout",
     "output_type": "stream",
     "text": [
      "mean no till for  profit :  134.3864694024841\n",
      "mean conv till for  profit :  124.82292044906674\n",
      "T-statistic for  profit :  0.7685812371152062\n",
      "P-value for  profit :  0.4426754674791201\n"
     ]
    }
   ],
   "source": [
    "conv_v_none(\"profit\")"
   ]
  },
  {
   "cell_type": "code",
   "execution_count": 11,
   "id": "58fed1ee-ef28-4ea9-a948-330d1c8f7403",
   "metadata": {},
   "outputs": [
    {
     "name": "stdout",
     "output_type": "stream",
     "text": [
      "mean no till for  Yield_bu_ac :  50.38788164117647\n",
      "mean conv till for  Yield_bu_ac :  60.05272209709302\n",
      "T-statistic for  Yield_bu_ac :  -2.964726848864808\n",
      "P-value for  Yield_bu_ac :  0.003243466104802426\n"
     ]
    }
   ],
   "source": [
    "conv_v_none(\"Yield_bu_ac\")"
   ]
  },
  {
   "cell_type": "code",
   "execution_count": 12,
   "id": "196af5b4-eb9b-494c-93d6-d61dc61617d4",
   "metadata": {},
   "outputs": [
    {
     "name": "stdout",
     "output_type": "stream",
     "text": [
      "mean no till for  input_cost :  3.5136186986923725\n",
      "mean conv till for  input_cost :  42.14670275258443\n",
      "T-statistic for  input_cost :  -85.2176991889578\n",
      "P-value for  input_cost :  1.7333650271003115e-231\n"
     ]
    }
   ],
   "source": [
    "conv_v_none(\"input_cost\")"
   ]
  },
  {
   "cell_type": "code",
   "execution_count": 13,
   "id": "27a8b83e-3461-430e-a246-8cc7e9462cd2",
   "metadata": {},
   "outputs": [
    {
     "name": "stdout",
     "output_type": "stream",
     "text": [
      "F-statistic: 0.6402117646043431\n",
      "P-value: 0.589315391872417\n"
     ]
    }
   ],
   "source": [
    "\n",
    "f_statistic, p_value = stats.f_oneway(no_till[\"profit\"], conv[\"profit\"],chisel[\"profit\"], alt[\"profit\"])\n",
    "\n",
    "# Print results\n",
    "print(\"F-statistic:\", f_statistic)\n",
    "print(\"P-value:\", p_value)"
   ]
  },
  {
   "cell_type": "code",
   "execution_count": 31,
   "id": "7c88d787-1b63-45a2-b839-97f4bd6760c4",
   "metadata": {},
   "outputs": [],
   "source": [
    "income_table=pd.pivot_table(total, values=\"income_per_ac\", index=\"Year\", columns=\"Tillage_st_x\", aggfunc=\"mean\")\n",
    "expense_table=pd.pivot_table(total, values=\"input_cost\", index=\"Year\", columns=\"Tillage_st_x\", aggfunc=\"mean\")\n",
    "\n",
    "income_table[\"difference\"]=income_table[\"Conv\"]-income_table[\"No_till\"]\n",
    "expense_table[\"difference\"]=expense_table[\"Conv\"]-expense_table[\"No_till\"]\n",
    "\n",
    "income_diff=income_table[\"difference\"].mean()\n",
    "expense_diff=expense_table[\"difference\"].mean()"
   ]
  },
  {
   "cell_type": "code",
   "execution_count": 32,
   "id": "d8f745a1-4dc6-40ae-bba9-870b390ad78e",
   "metadata": {},
   "outputs": [],
   "source": [
    "income_diff=income_table[\"difference\"].mean()\n",
    "expense_diff=expense_table[\"difference\"].mean()"
   ]
  },
  {
   "cell_type": "code",
   "execution_count": 33,
   "id": "551a9688-50ca-4e29-8d75-382db69763c9",
   "metadata": {},
   "outputs": [
    {
     "data": {
      "text/plain": [
       "30.190757055139542"
      ]
     },
     "execution_count": 33,
     "metadata": {},
     "output_type": "execute_result"
    }
   ],
   "source": [
    "income_diff #how much more did conventional till make"
   ]
  },
  {
   "cell_type": "code",
   "execution_count": 34,
   "id": "e05ea8c2-a4b4-4340-ba03-15e4f4dc8f95",
   "metadata": {},
   "outputs": [
    {
     "data": {
      "text/plain": [
       "38.671231638948775"
      ]
     },
     "execution_count": 34,
     "metadata": {},
     "output_type": "execute_result"
    }
   ],
   "source": [
    "expense_diff #how much more did conventional till cost"
   ]
  },
  {
   "cell_type": "code",
   "execution_count": 35,
   "id": "13f15a84-6d3c-4f4a-92ec-14d268b4cdd7",
   "metadata": {},
   "outputs": [
    {
     "data": {
      "text/plain": [
       "-8.480474583809233"
      ]
     },
     "execution_count": 35,
     "metadata": {},
     "output_type": "execute_result"
    }
   ],
   "source": [
    "income_diff-expense_diff #how much more did conventional till profit"
   ]
  },
  {
   "cell_type": "code",
   "execution_count": null,
   "id": "fc2747fd-9104-474c-8bf8-3176953c037f",
   "metadata": {},
   "outputs": [],
   "source": []
  }
 ],
 "metadata": {
  "kernelspec": {
   "display_name": "Python 3 (ipykernel)",
   "language": "python",
   "name": "python3"
  },
  "language_info": {
   "codemirror_mode": {
    "name": "ipython",
    "version": 3
   },
   "file_extension": ".py",
   "mimetype": "text/x-python",
   "name": "python",
   "nbconvert_exporter": "python",
   "pygments_lexer": "ipython3",
   "version": "3.8.19"
  }
 },
 "nbformat": 4,
 "nbformat_minor": 5
}
